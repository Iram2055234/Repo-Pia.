{
  "nbformat": 4,
  "nbformat_minor": 0,
  "metadata": {
    "colab": {
      "provenance": [],
      "authorship_tag": "ABX9TyOM9tKnuKvKvg8FFat0a9ni",
      "include_colab_link": true
    },
    "kernelspec": {
      "name": "python3",
      "display_name": "Python 3"
    },
    "language_info": {
      "name": "python"
    }
  },
  "cells": [
    {
      "cell_type": "markdown",
      "metadata": {
        "id": "view-in-github",
        "colab_type": "text"
      },
      "source": [
        "<a href=\"https://colab.research.google.com/github/Iram2055234/Repo-Pia./blob/main/programa_archivo.ipynb\" target=\"_parent\"><img src=\"https://colab.research.google.com/assets/colab-badge.svg\" alt=\"Open In Colab\"/></a>"
      ]
    },
    {
      "cell_type": "code",
      "execution_count": 5,
      "metadata": {
        "colab": {
          "base_uri": "https://localhost:8080/"
        },
        "id": "usUZXgniuC8G",
        "outputId": "b124b14f-82bd-4cd5-a64d-5d6c045d1939"
      },
      "outputs": [
        {
          "output_type": "stream",
          "name": "stdout",
          "text": [
            "Ingrese el nombre del archivo: pia de programacion\n",
            "Ingrese el contenido para crear el archivo: codigo 1-2-3\n",
            "Ingrese el contenido para escribir en el archivo: Este es el archivo del pia !\n",
            "Archivo 'pia de programacion' creado correctamente.\n",
            "Contenido agregado al archivo 'pia de programacion' correctamente.\n",
            "Contenido del archivo 'pia de programacion':\n",
            "codigo 1-2-3Este es el archivo del pia !\n"
          ]
        }
      ],
      "source": [
        "class Archivos_texto:\n",
        "    def __init__(self, nombre_archivo):\n",
        "        self.nombre_archivo = nombre_archivo\n",
        "\n",
        "    def crear_archivo(self, contenido):\n",
        "        try:\n",
        "            with open(self.nombre_archivo, 'w') as archivo:\n",
        "                archivo.write(contenido)\n",
        "            return f\"Archivo '{self.nombre_archivo}' creado correctamente.\"\n",
        "        except Exception as e:\n",
        "            return f\"Error al crear el archivo: {str(e)}\"\n",
        "\n",
        "    def escribir_archivo(self, contenido):\n",
        "        try:\n",
        "            with open(self.nombre_archivo, 'a') as archivo:\n",
        "                archivo.write(contenido)\n",
        "            return f\"Contenido agregado al archivo '{self.nombre_archivo}' correctamente.\"\n",
        "        except Exception as e:\n",
        "            return f\"Error al escribir en el archivo: {str(e)}\"\n",
        "\n",
        "    def leer_archivo(self):\n",
        "        try:\n",
        "            with open(self.nombre_archivo, 'r') as archivo:\n",
        "                contenido = archivo.read()\n",
        "            return f\"Contenido del archivo '{self.nombre_archivo}':\\n{contenido}\"\n",
        "        except Exception as e:\n",
        "            return f\"Error al leer el archivo: {str(e)}\"\n",
        "\n",
        "\n",
        "\n",
        "nombre_del_archivo = input(\"Ingrese el nombre del archivo: \")\n",
        "manejo_archivos = Archivos_texto(nombre_del_archivo)\n",
        "\n",
        "\n",
        "contenido_creacion = input(\"Ingrese el contenido para crear el archivo: \")\n",
        "contenido_escritura = input(\"Ingrese el contenido para escribir en el archivo: \")\n",
        "\n",
        "\n",
        "resultado_creacion = manejo_archivos.crear_archivo(contenido_creacion)\n",
        "\n",
        "\n",
        "resultado_escritura = manejo_archivos.escribir_archivo(contenido_escritura)\n",
        "\n",
        "\n",
        "resultado_lectura = manejo_archivos.leer_archivo()\n",
        "\n",
        "print(resultado_creacion)\n",
        "print(resultado_escritura)\n",
        "print(resultado_lectura)\n"
      ]
    }
  ]
}