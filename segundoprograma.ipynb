{
  "nbformat": 4,
  "nbformat_minor": 0,
  "metadata": {
    "colab": {
      "provenance": [],
      "authorship_tag": "ABX9TyPIZlinVYVmefeDyQwMc145",
      "include_colab_link": true
    },
    "kernelspec": {
      "name": "python3",
      "display_name": "Python 3"
    },
    "language_info": {
      "name": "python"
    }
  },
  "cells": [
    {
      "cell_type": "markdown",
      "metadata": {
        "id": "view-in-github",
        "colab_type": "text"
      },
      "source": [
        "<a href=\"https://colab.research.google.com/github/Iram2055234/Repo-Pia./blob/main/segundoprograma.ipynb\" target=\"_parent\"><img src=\"https://colab.research.google.com/assets/colab-badge.svg\" alt=\"Open In Colab\"/></a>"
      ]
    },
    {
      "cell_type": "code",
      "execution_count": null,
      "metadata": {
        "id": "vhK9w2uLJP6M"
      },
      "outputs": [],
      "source": [
        "#Segundo programa\n",
        "class Dinosaurio:\n",
        "    def __init__(self):\n",
        "        self.NOM = \"\"\n",
        "        self.PES = 0\n",
        "        self.LON = 0\n",
        "        self.PESKIL = 0\n",
        "        self.LONMET = 0\n",
        "\n",
        "    def obtener_datos_dinosaurio(self):\n",
        "        self.NOM = input(\"Ingrese el nombre del dinosaurio: \")\n",
        "        self.PES = float(input(\"Ingrese el peso del dinosaurio en libras: \"))\n",
        "        self.LON = float(input(\"Ingrese la longitud del dinosaurio en pies: \"))\n",
        "        self.PESKIL = self.PES * 0.45359237  # 1 libra = 0.45359237 kg\n",
        "        self.LONMET = self.LON * 0.3048  # 1 pie = 0.3048 metros\n",
        "\n",
        "    def dinosaurio(self):\n",
        "        print(f\"Nombre del dinosaurio: {self.NOM}\")\n",
        "        print(f\"Peso del dinosaurio (en kg): {self.PESKIL}\")\n",
        "        print(f\"Longitud del dinosaurio (en m): {self.LONMET}\")\n",
        "\n",
        "dinosaurio = Dinosaurio()\n",
        "dinosaurio.obtener_datos_dinosaurio()\n",
        "dinosaurio.dinosaurio()\n"
      ]
    }
  ]
}