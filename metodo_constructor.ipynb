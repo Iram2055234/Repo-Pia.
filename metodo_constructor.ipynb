{
  "nbformat": 4,
  "nbformat_minor": 0,
  "metadata": {
    "colab": {
      "provenance": [],
      "authorship_tag": "ABX9TyORHvoOhXhpnqh0/NXVSv0n",
      "include_colab_link": true
    },
    "kernelspec": {
      "name": "python3",
      "display_name": "Python 3"
    },
    "language_info": {
      "name": "python"
    }
  },
  "cells": [
    {
      "cell_type": "markdown",
      "metadata": {
        "id": "view-in-github",
        "colab_type": "text"
      },
      "source": [
        "<a href=\"https://colab.research.google.com/github/Iram2055234/Repo-Pia./blob/main/metodo_constructor.ipynb\" target=\"_parent\"><img src=\"https://colab.research.google.com/assets/colab-badge.svg\" alt=\"Open In Colab\"/></a>"
      ]
    },
    {
      "cell_type": "code",
      "execution_count": 2,
      "metadata": {
        "colab": {
          "base_uri": "https://localhost:8080/"
        },
        "id": "z_gf_7wksLjB",
        "outputId": "cbd63fb5-824c-46ef-a935-5810045e1e5e"
      },
      "outputs": [
        {
          "output_type": "stream",
          "name": "stdout",
          "text": [
            "Ingrese su nombre: 54p´{\n",
            "Ingrese su edad: 6\n",
            "Valores iniciales del objeto:\n",
            "Nombre: 54p´{\n",
            "Edad: 6\n",
            "\n",
            "Resultado del método archivos_texto:\n",
            "Nombre: 54p´{\n",
            "Edad: 6\n",
            "\n",
            "Valores después de ejecutar archivos_texto:\n",
            "Nombre: 54p´{\n",
            "Edad: 6\n"
          ]
        }
      ],
      "source": [
        "import os\n",
        "\n",
        "class MiClase:\n",
        "    def __init__(self, edad, nombre):\n",
        "        self.edad = edad\n",
        "        self.nombre = nombre\n",
        "\n",
        "    def archivos_texto(self):\n",
        "        if os.path.exists(\"informacion.txt\"):\n",
        "            os.remove(\"informacion.txt\")\n",
        "\n",
        "        with open(\"informacion.txt\", \"w\") as archivo:\n",
        "            archivo.write(f\"Nombre: {self.nombre}\\nEdad: {self.edad}\")\n",
        "\n",
        "        with open(\"informacion.txt\", \"r\") as archivo:\n",
        "            contenido = archivo.read()\n",
        "\n",
        "        return contenido\n",
        "\n",
        "if __name__ == \"__main__\":\n",
        "    nombre = input(\"Ingrese su nombre: \")\n",
        "    edad = int(input(\"Ingrese su edad: \"))\n",
        "\n",
        "    mi_objeto = MiClase(edad, nombre)\n",
        "\n",
        "    print(\"Valores iniciales del objeto:\")\n",
        "    print(f\"Nombre: {mi_objeto.nombre}\")\n",
        "    print(f\"Edad: {mi_objeto.edad}\\n\")\n",
        "\n",
        "    resultado_archivos_texto = mi_objeto.archivos_texto()\n",
        "    print(\"Resultado del método archivos_texto:\")\n",
        "    print(resultado_archivos_texto)\n",
        "\n",
        "    print(\"\\nValores después de ejecutar archivos_texto:\")\n",
        "    print(f\"Nombre: {mi_objeto.nombre}\")\n",
        "    print(f\"Edad: {mi_objeto.edad}\")"
      ]
    }
  ]
}