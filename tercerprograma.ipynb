{
  "nbformat": 4,
  "nbformat_minor": 0,
  "metadata": {
    "colab": {
      "provenance": [],
      "authorship_tag": "ABX9TyOgqjrnp9mJa4qVROFerGZ8",
      "include_colab_link": true
    },
    "kernelspec": {
      "name": "python3",
      "display_name": "Python 3"
    },
    "language_info": {
      "name": "python"
    }
  },
  "cells": [
    {
      "cell_type": "markdown",
      "metadata": {
        "id": "view-in-github",
        "colab_type": "text"
      },
      "source": [
        "<a href=\"https://colab.research.google.com/github/Iram2055234/Repo-Pia./blob/main/tercerprograma.ipynb\" target=\"_parent\"><img src=\"https://colab.research.google.com/assets/colab-badge.svg\" alt=\"Open In Colab\"/></a>"
      ]
    },
    {
      "cell_type": "code",
      "execution_count": null,
      "metadata": {
        "id": "I-L1DR3dKWYv"
      },
      "outputs": [],
      "source": [
        "#Tercer Programa\n",
        "# Programa gasolinera\n",
        "class EstacionDeServicio:\n",
        "      def _init_(self):\n",
        "          self.GAL = 0\n",
        "          self.TOTAL = 0\n",
        "\n",
        "      def obtener_cantidad_galones(self):\n",
        "          cantidad_galones_usuario = float(input(\"Ingrese la cantidad de galones: \"))\n",
        "          self.GAL = cantidad_galones_usuario\n",
        "\n",
        "      def gasolina(self):\n",
        "          litros = self.GAL * 3.785\n",
        "          precio_por_litro = 8.20\n",
        "          self.TOTAL = litros * precio_por_litro\n",
        "          return self.TOTAL\n",
        "\n",
        "estacion = EstacionDeServicio()\n",
        "estacion.obtener_cantidad_galones()\n",
        "total_a_pagar = estacion.gasolina()\n",
        "print(f\"El total a pagar por {estacion.GAL} galones es: ${total_a_pagar:.2f}\")"
      ]
    }
  ]
}