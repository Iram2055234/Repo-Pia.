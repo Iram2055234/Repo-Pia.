{
  "nbformat": 4,
  "nbformat_minor": 0,
  "metadata": {
    "colab": {
      "provenance": [],
      "authorship_tag": "ABX9TyO6+CTF2Dy+LWHP/5rbX6Pl",
      "include_colab_link": true
    },
    "kernelspec": {
      "name": "python3",
      "display_name": "Python 3"
    },
    "language_info": {
      "name": "python"
    }
  },
  "cells": [
    {
      "cell_type": "markdown",
      "metadata": {
        "id": "view-in-github",
        "colab_type": "text"
      },
      "source": [
        "<a href=\"https://colab.research.google.com/github/Iram2055234/Repo-Pia./blob/main/primerprograma_pynb.ipynb\" target=\"_parent\"><img src=\"https://colab.research.google.com/assets/colab-badge.svg\" alt=\"Open In Colab\"/></a>"
      ]
    },
    {
      "cell_type": "code",
      "execution_count": null,
      "metadata": {
        "id": "aKnnvPUXJmid"
      },
      "outputs": [],
      "source": [
        "#Primer Programa\n",
        "# Programa de descuento en tienda\n",
        "class Tienda:\n",
        "   def __init__(self):\n",
        "       self.compra = 0\n",
        "\n",
        "   def obtener_datos_compra(self):\n",
        "       self.compra = float(input(\"Ingrese el monto o dato de la compra: \"))\n",
        "\n",
        "   def descuento_clientes(self):\n",
        "       pagar = self.compra\n",
        "       if self.compra < 500:\n",
        "          pagar = self.compra\n",
        "       elif 500 <= self.compra <= 1000:\n",
        "            pagar = self.compra - (self.compra * 0.05)\n",
        "       elif 1000 < self.compra <= 7000:\n",
        "            pagar = self.compra - (self.compra * 0.11)\n",
        "       elif 7000 < self.compra <= 15000:\n",
        "            pagar = self.compra - (self.compra * 0.18)\n",
        "       elif self.compra > 15000:\n",
        "            pagar = self.compra - (self.compra * 0.25)\n",
        "       return pagar\n",
        "\n",
        "tienda = Tienda()\n",
        "tienda.obtener_datos_compra()\n",
        "print(\"El total del resultado a pagar es\", tienda.descuento_clientes())"
      ]
    }
  ]
}